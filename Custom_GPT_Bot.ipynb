{
  "nbformat": 4,
  "nbformat_minor": 0,
  "metadata": {
    "colab": {
      "provenance": [],
      "authorship_tag": "ABX9TyOBf7OBA6krlAPWJT3WDPdY",
      "include_colab_link": true
    },
    "kernelspec": {
      "name": "python3",
      "display_name": "Python 3"
    },
    "language_info": {
      "name": "python"
    }
  },
  "cells": [
    {
      "cell_type": "markdown",
      "metadata": {
        "id": "view-in-github",
        "colab_type": "text"
      },
      "source": [
        "<a href=\"https://colab.research.google.com/github/JonScottE/04_Pandas_homework/blob/main/Custom_GPT_Bot.ipynb\" target=\"_parent\"><img src=\"https://colab.research.google.com/assets/colab-badge.svg\" alt=\"Open In Colab\"/></a>"
      ]
    },
    {
      "cell_type": "code",
      "execution_count": null,
      "metadata": {
        "id": "FuT2NY34mYbV"
      },
      "outputs": [],
      "source": [
        "import openai\n",
        "import os\n",
        "\n"
      ]
    },
    {
      "cell_type": "code",
      "source": [
        "# set up the API key\n",
        "openai.api_key = os.environ[\"OPENAI_API_KEY\"]\n",
        "\n",
        "# create a prompt for the chatbot\n",
        "prompt = \"Hello, how can I assist you today?\"\n",
        "\n"
      ],
      "metadata": {
        "id": "wgF5e-bMoJ69"
      },
      "execution_count": null,
      "outputs": []
    },
    {
      "cell_type": "code",
      "source": [
        "# set up the request parameters\n",
        "params = {\n",
        "    \"engine\": \"text-davinci-002\",\n",
        "    \"prompt\": prompt,\n",
        "    \"max_tokens\": 1024,\n",
        "    \"temperature\": 0.7,\n",
        "    \"n\": 1,\n",
        "    \"stop\": \"\\n\"\n",
        "}\n",
        "\n"
      ],
      "metadata": {
        "id": "dBwVB898oKCl"
      },
      "execution_count": null,
      "outputs": []
    },
    {
      "cell_type": "code",
      "source": [
        "# send the request to the API\n",
        "response = openai.Completion.create(**params)\n",
        "\n"
      ],
      "metadata": {
        "id": "X8dwEtRSoKFp"
      },
      "execution_count": null,
      "outputs": []
    },
    {
      "cell_type": "code",
      "source": [
        "# extract the response text from the API response\n",
        "answer = response.choices[0].text.strip()\n"
      ],
      "metadata": {
        "id": "7nAC4JYFoSXv"
      },
      "execution_count": null,
      "outputs": []
    },
    {
      "cell_type": "code",
      "source": [
        "\n",
        "# print the response text\n",
        "print(answer)"
      ],
      "metadata": {
        "id": "4SA2npZaoSbe"
      },
      "execution_count": null,
      "outputs": []
    },
    {
      "cell_type": "code",
      "source": [],
      "metadata": {
        "id": "rskoINKuoSe4"
      },
      "execution_count": null,
      "outputs": []
    }
  ]
}